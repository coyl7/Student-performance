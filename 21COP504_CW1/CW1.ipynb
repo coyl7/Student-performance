{
 "cells": [
  {
   "cell_type": "code",
   "execution_count": 1,
   "metadata": {},
   "outputs": [],
   "source": [
    "import numpy as np\n",
    "import pandas as pd\n",
    "import sqlite3\n",
    "import random"
   ]
  },
  {
   "cell_type": "markdown",
   "metadata": {},
   "source": [
    "### Define functions"
   ]
  },
  {
   "cell_type": "code",
   "execution_count": 2,
   "metadata": {},
   "outputs": [],
   "source": [
    "#define function to clean data\n",
    "def cleandata(dfname, filepath, clean_dfname, new_col_names):\n",
    "    dfname = pd.read_csv(filepath)\n",
    "    clean_dfname = dfname.rename(columns = new_col_names)\n",
    "    clean_dfname = clean_dfname.fillna(0)\n",
    "    clean_dfname = clean_dfname.replace(\"-\", 0)\n",
    "    clean_dfname = clean_dfname.drop([\"State\", \"Time taken\"], axis=1)\n",
    "    print(\"Data cleaned\")\n",
    "    return(clean_dfname)\n",
    "\n",
    "#define function to change column data type\n",
    "def changedtype(clean_dfname, col_index):\n",
    "    clean_dfname.iloc[:, col_index:] = clean_dfname.iloc[:, col_index:].astype(\"float64\", copy=False)\n",
    "    print(\"Data type chenged\")\n",
    "\n",
    "    \n",
    "#define function to remove duplicated values\n",
    "def drop_duplicated_id(clean_dfname):\n",
    "    clean_dfname = clean_dfname.sort_values(\"Grade\").drop_duplicates(subset=[\"research id\"], keep=\"last\")  \n",
    "    print(\"Duplicated values removed\")\n",
    "    return(clean_dfname)\n",
    "\n",
    "#define funtion to give student grade for those didn't complete all the question\n",
    "def complete_grades(df, s_id, grade):\n",
    "    index = df[df[\"research id\"] == s_id].index  #to check index number \n",
    "    df.at[index, \"Grade\"] = grade\n",
    "\n",
    "#define function to format data\n",
    "def format_grade(clean_dfname, allmarks, columns):\n",
    "    clean_dfname = clean_dfname.apply(lambda x: (x/allmarks)*100 if x.name in columns else x).round(2)\n",
    "    print(\"Grades are formatted\")\n",
    "    return(clean_dfname)\n",
    "    \n",
    "#define function to store data to database\n",
    "def savetodb(clean_dfname, table_name):\n",
    "    conn = sqlite3.connect(\"ResultDatabase.db\")\n",
    "    df = clean_dfname\n",
    "    df.to_sql(table_name, conn, index=False, if_exists=\"replace\")\n",
    "    conn.close\n",
    "    print(\"Dataframe saved to database\")"
   ]
  },
  {
   "cell_type": "markdown",
   "metadata": {},
   "source": [
    "### Test 1"
   ]
  },
  {
   "cell_type": "code",
   "execution_count": 3,
   "metadata": {},
   "outputs": [
    {
     "name": "stdout",
     "output_type": "stream",
     "text": [
      "Data cleaned\n",
      "Data type chenged\n",
      "Duplicated values removed\n",
      "Grades are formatted\n"
     ]
    },
    {
     "name": "stderr",
     "output_type": "stream",
     "text": [
      "C:\\Users\\macy1\\anaconda3\\lib\\site-packages\\pandas\\core\\generic.py:2605: UserWarning: The spaces in these column names will not be changed. In pandas versions < 0.14, spaces were converted to underscores.\n",
      "  sql.to_sql(\n"
     ]
    },
    {
     "name": "stdout",
     "output_type": "stream",
     "text": [
      "Dataframe saved to database\n"
     ]
    }
   ],
   "source": [
    "#use function cleandata() to clean data\n",
    "t1_new_name = {\"Grade/600\":\"Grade\", \"Q 1 /100\":\"Q1\", \"Q 2 /100\":\"Q2\", \"Q 3 /100\":\"Q3\", \"Q 4 /100\":\"Q4\", \"Q 5 /100\":\"Q5\", \"Q 6 /100\":\"Q6\"}\n",
    "dfCleanTest_1 = cleandata(\"dfTest_1\", \"TestResult/Formative_Test_1.csv\", \"dfCleanTest_1\", t1_new_name)\n",
    "\n",
    "#use function changedtype() to change datatype  \n",
    "changedtype(dfCleanTest_1, 3) \n",
    "#check\n",
    "#dfCleanTest_1.info()\n",
    "\n",
    "#use function drop_duplicated_id to remove duplicates\n",
    "dfCleanTest_1 = drop_duplicated_id(dfCleanTest_1)\n",
    "\n",
    "#use function format_grade() to format data\n",
    "c = [\"Grade\", \"Q1\", \"Q2\", \"Q3\", \"Q4\", \"Q5\", \"Q6\"]\n",
    "dfFormattedCleanTest_1 = format_grade(dfCleanTest_1, 6, c)\n",
    "\n",
    "#use function savetodb() to save formatted dataframe to database\n",
    "savetodb(dfFormattedCleanTest_1, \"dfFormattedCleanTest_1\")\n"
   ]
  },
  {
   "cell_type": "markdown",
   "metadata": {},
   "source": [
    "### Test 2"
   ]
  },
  {
   "cell_type": "code",
   "execution_count": 4,
   "metadata": {},
   "outputs": [
    {
     "name": "stdout",
     "output_type": "stream",
     "text": [
      "Data cleaned\n",
      "Data type chenged\n",
      "Duplicated values removed\n",
      "Grades are formatted\n"
     ]
    },
    {
     "name": "stderr",
     "output_type": "stream",
     "text": [
      "C:\\Users\\macy1\\anaconda3\\lib\\site-packages\\pandas\\core\\generic.py:2605: UserWarning: The spaces in these column names will not be changed. In pandas versions < 0.14, spaces were converted to underscores.\n",
      "  sql.to_sql(\n"
     ]
    },
    {
     "name": "stdout",
     "output_type": "stream",
     "text": [
      "Dataframe saved to database\n"
     ]
    }
   ],
   "source": [
    "#use function cleandata() to clean data\n",
    "t2_new_name = {\"Grade/700\":\"Grade\", \"Q 1 /100\":\"Q1\", \"Q 2 /100\":\"Q2\", \"Q 3 /100\":\"Q3\", \"Q 4 /200\":\"Q4\", \"Q 5 /100\":\"Q5\", \"Q 6 /100\":\"Q6\"}\n",
    "dfCleanTest_2 = cleandata(\"dfTest_2\", \"TestResult/Formative_Test_2.csv\", \"dfCleanTest_2\", t2_new_name)\n",
    "\n",
    "#use function changedtype() to change datatype  \n",
    "changedtype(dfCleanTest_2, 3)    \n",
    "# #check\n",
    "# dfCleanTest_2.info()\n",
    "\n",
    "#use function drop_duplicated_id to remove duplicates\n",
    "dfCleanTest_2 = drop_duplicated_id(dfCleanTest_2)\n",
    "\n",
    "#student 107 only complete Q1 so will get 0.6 for Grade instead of 0\n",
    "complete_grades(dfCleanTest_2, 107, 0.6)\n",
    "\n",
    "#use function format_grade() to format data\n",
    "c = [\"Grade\", \"Q1\", \"Q2\", \"Q3\", \"Q4\", \"Q5\", \"Q6\"]\n",
    "dfFormattedCleanTest_2 = format_grade(dfCleanTest_2, 7, c)\n",
    "\n",
    "#use function savetodb() to save the formatted dataframe to database\n",
    "savetodb(dfFormattedCleanTest_2, \"dfFormattedCleanTest_2\")\n"
   ]
  },
  {
   "cell_type": "markdown",
   "metadata": {},
   "source": [
    "### Test 3"
   ]
  },
  {
   "cell_type": "code",
   "execution_count": 5,
   "metadata": {},
   "outputs": [
    {
     "name": "stdout",
     "output_type": "stream",
     "text": [
      "Data cleaned\n",
      "Data type chenged\n",
      "Duplicated values removed\n",
      "Grades are formatted\n",
      "Dataframe saved to database\n"
     ]
    },
    {
     "name": "stderr",
     "output_type": "stream",
     "text": [
      "C:\\Users\\macy1\\anaconda3\\lib\\site-packages\\pandas\\core\\generic.py:2605: UserWarning: The spaces in these column names will not be changed. In pandas versions < 0.14, spaces were converted to underscores.\n",
      "  sql.to_sql(\n"
     ]
    }
   ],
   "source": [
    "#use function cleandata() to clean data\n",
    "t3_new_name = {\"Grade/600\":\"Grade\", \"Q 1 /100\":\"Q1\", \"Q 2 /100\":\"Q2\", \"Q 3 /100\":\"Q3\", \"Q 4 /100\":\"Q4\", \"Q 5 /100\":\"Q5\", \"Q 6 /100\":\"Q6\"}\n",
    "dfCleanTest_3 = cleandata(\"dfTest_3\", \"TestResult/Formative_Test_3.csv\", \"dfCleanTest_3\", t3_new_name)\n",
    "\n",
    "#use function changedtype() to change datatype  \n",
    "changedtype(dfCleanTest_3, 3)    \n",
    "# #check\n",
    "# dfCleanTest_3.info()\n",
    "\n",
    "#use function drop_duplicated_id to remove duplicates\n",
    "dfCleanTest_3 = drop_duplicated_id(dfCleanTest_3)\n",
    "\n",
    "#student 132 and 60 will get grades for what they've complete instead of 0\n",
    "complete_grades(dfCleanTest_3, 132, 0.8)\n",
    "complete_grades(dfCleanTest_3, 60, 3.0)\n",
    "\n",
    "#use function format_grade() to format data\n",
    "c = [\"Grade\", \"Q1\", \"Q2\", \"Q3\", \"Q4\", \"Q5\", \"Q6\"]\n",
    "dfFormattedCleanTest_3 = format_grade(dfCleanTest_3, 6, c)\n",
    "\n",
    "#use function savetodb() to save the formatted dataframe to database\n",
    "savetodb(dfFormattedCleanTest_3, \"dfFormattedCleanTest_3\")\n"
   ]
  },
  {
   "cell_type": "markdown",
   "metadata": {},
   "source": [
    "### Test 4"
   ]
  },
  {
   "cell_type": "code",
   "execution_count": 6,
   "metadata": {},
   "outputs": [
    {
     "name": "stdout",
     "output_type": "stream",
     "text": [
      "Data cleaned\n",
      "Data type chenged\n",
      "Duplicated values removed\n",
      "Grades are formatted\n",
      "Dataframe saved to database\n"
     ]
    }
   ],
   "source": [
    "#use function cleandata() to clean data\n",
    "t4_new_name = {\"Grade/1000\":\"Grade\", \"Q 1 /500\":\"Q1\", \"Q 2 /500\":\"Q2\"}\n",
    "dfCleanTest_4 = cleandata(\"dfTest_4\", \"TestResult/Formative_Test_4.csv\", \"dfCleanTest_4\", t4_new_name)\n",
    "\n",
    "#use function changedtype() to change datatype  \n",
    "changedtype(dfCleanTest_4, 3) \n",
    "# #check\n",
    "# dfCleanTest_4.info()\n",
    "\n",
    "#use function drop_duplicated_id to remove duplicates\n",
    "dfCleanTest_4 = drop_duplicated_id(dfCleanTest_4)\n",
    "\n",
    "#use function format_grade() to format data\n",
    "c = [\"Grade\", \"Q1\", \"Q2\"]\n",
    "dfFormattedCleanTest_4 = format_grade(dfCleanTest_4, 10, c)\n",
    "\n",
    "#use function savetodb() to save the formatted dataframe to database\n",
    "savetodb(dfFormattedCleanTest_4, \"dfFormattedCleanTest_4\")\n"
   ]
  },
  {
   "cell_type": "markdown",
   "metadata": {},
   "source": [
    "### Mock test"
   ]
  },
  {
   "cell_type": "code",
   "execution_count": 7,
   "metadata": {},
   "outputs": [
    {
     "name": "stdout",
     "output_type": "stream",
     "text": [
      "Data cleaned\n",
      "Data type chenged\n",
      "Duplicated values removed\n",
      "Dataframe saved to database\n"
     ]
    }
   ],
   "source": [
    "#use function cleandata() to clean data\n",
    "mt_new_name = {\"Grade/10000\":\"Grade\", \"Q 1 /500\":\"Q1\", \"Q 2 /300\":\"Q2\", \"Q 3 /600\":\"Q3\", \"Q 4 /700\":\"Q4\", \"Q 5 /500\":\"Q5\", \n",
    "               \"Q 6 /400\":\"Q6\", \"Q 7 /1000\":\"Q7\", \"Q 8 /2000\":\"Q8\", \"Q 9 /2000\":\"Q9\", \"Q 10 /2000\":\"Q10\"}\n",
    "dfCleanMockTest = cleandata(\"dfMockTest\", \"TestResult/Formative_Mock_Test.csv\", \"dfCleanMockTest\", mt_new_name)\n",
    "\n",
    "#use function changedtype() to change datatype  \n",
    "changedtype(dfCleanMockTest, 3) \n",
    "# #check\n",
    "# dfCleanMockTest.info()\n",
    "\n",
    "#use function drop_duplicated_id to remove duplicates\n",
    "dfCleanMockTest = drop_duplicated_id(dfCleanMockTest)\n",
    "\n",
    "#format data\n",
    "dfFormattedCleanMockTest = dfCleanMockTest.round(2)\n",
    "\n",
    "#use function savetodb() to save the formatted dataframe to database\n",
    "savetodb(dfFormattedCleanMockTest, \"dfFormattedCleanMockTest\")\n"
   ]
  },
  {
   "cell_type": "markdown",
   "metadata": {},
   "source": [
    "### "
   ]
  },
  {
   "cell_type": "markdown",
   "metadata": {},
   "source": [
    "### Sum test"
   ]
  },
  {
   "cell_type": "code",
   "execution_count": 8,
   "metadata": {},
   "outputs": [
    {
     "name": "stdout",
     "output_type": "stream",
     "text": [
      "Data cleaned\n",
      "Data type chenged\n",
      "Duplicated values removed\n",
      "Dataframe saved to database\n"
     ]
    }
   ],
   "source": [
    "#use function cleandata() to clean data\n",
    "st_new_name = {\"Grade/10000\":\"Grade\", \"Q 1 /500\":\"Q1\", \"Q 2 /300\":\"Q2\", \"Q 3 /600\":\"Q3\", \"Q 4 /700\":\"Q4\", \"Q 5 /400\":\"Q5\", \n",
    "               \"Q 6 /500\":\"Q6\", \"Q 7 /1500\":\"Q7\", \"Q 8 /1500\":\"Q8\", \"Q 9 /1500\":\"Q9\", \"Q 10 /1000\":\"Q10\", \"Q 11 /400\":\"Q11\", \"Q 12 /500\":\"Q12\", \"Q 13 /600\":\"Q13\",}\n",
    "dfCleanSumTest = cleandata(\"dfSumTest\", \"TestResult/SumTest.csv\", \"dfCleanSumTest\", st_new_name)\n",
    "\n",
    "#use function changedtype() to change datatype  \n",
    "changedtype(dfCleanSumTest, 3) \n",
    "# #check\n",
    "# dfCleanSumTest.info()\n",
    "\n",
    "#use function drop_duplicated_id to remove duplicates\n",
    "dfCleanSumTest = drop_duplicated_id(dfCleanSumTest)\n",
    "\n",
    "#format data\n",
    "dfFormattedCleanSumTest = dfCleanSumTest.round(2)\n",
    "\n",
    "#use function savetodb() to save the formatted dataframe to database\n",
    "savetodb(dfFormattedCleanSumTest, \"dfFormattedCleanSumTest\")\n"
   ]
  },
  {
   "cell_type": "markdown",
   "metadata": {},
   "source": [
    "### Modify data\n"
   ]
  },
  {
   "cell_type": "code",
   "execution_count": 9,
   "metadata": {},
   "outputs": [],
   "source": [
    "#####################################\n",
    "# #uncomment all to modify the data \n",
    "#####################################\n",
    "\n",
    "# #generate 20 random rows to modify \n",
    "# row = list(range(0,153))\n",
    "# row_20 = np.random.choice(row, 20, replace=False)\n",
    "# print(row_20)\n",
    "\n",
    "# #generate 3 random questions to modify \n",
    "# col = list(range(4,17))    #location of Q1-Q13\n",
    "# Q = np.random.choice(col, 3, replace=False)\n",
    "# print(Q)\n",
    "\n",
    "# #times 0.5 to each question\n",
    "# dfFormattedCleanSumTest.iloc[row_20,Q] = dfFormattedCleanSumTest.iloc[row_20,Q].apply(lambda x: x*0.5).round(2)\n",
    "# dfFormattedCleanSumTest.iloc[row_20,:]\n",
    "\n",
    "# #update the total grade in each row\n",
    "# Qlist = [\"Q1\",\"Q2\",\"Q3\",\"Q4\",\"Q5\",\"Q6\",\"Q7\",\"Q8\",\"Q9\",\"Q10\",\"Q11\",\"Q12\",\"Q13\"]\n",
    "# dfFormattedCleanSumTest[\"Grade\"] = dfFormattedCleanSumTest[Qlist].sum(axis=1)\n",
    "# dfFormattedCleanSumTest.iloc[row_20,:].sort_index()\n",
    "\n",
    "\n",
    "# #use function savetodb() to save modified data to database\n",
    "# savetodb(dfFormattedCleanSumTest, \"dfFormattedCleanSumTest\")\n"
   ]
  }
 ],
 "metadata": {
  "kernelspec": {
   "display_name": "Python 3",
   "language": "python",
   "name": "python3"
  },
  "language_info": {
   "codemirror_mode": {
    "name": "ipython",
    "version": 3
   },
   "file_extension": ".py",
   "mimetype": "text/x-python",
   "name": "python",
   "nbconvert_exporter": "python",
   "pygments_lexer": "ipython3",
   "version": "3.8.5"
  }
 },
 "nbformat": 4,
 "nbformat_minor": 4
}
